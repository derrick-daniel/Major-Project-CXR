{
 "cells": [
  {
   "cell_type": "markdown",
   "metadata": {},
   "source": [
    "### Imports"
   ]
  },
  {
   "cell_type": "code",
   "execution_count": 1,
   "metadata": {},
   "outputs": [],
   "source": [
    "import pandas as pd\n",
    "import matplotlib.pyplot as plt\n",
    "import seaborn as sns"
   ]
  },
  {
   "cell_type": "markdown",
   "metadata": {},
   "source": [
    "### Dataset"
   ]
  },
  {
   "cell_type": "code",
   "execution_count": 3,
   "metadata": {},
   "outputs": [
    {
     "data": {
      "text/html": [
       "<div>\n",
       "<style scoped>\n",
       "    .dataframe tbody tr th:only-of-type {\n",
       "        vertical-align: middle;\n",
       "    }\n",
       "\n",
       "    .dataframe tbody tr th {\n",
       "        vertical-align: top;\n",
       "    }\n",
       "\n",
       "    .dataframe thead th {\n",
       "        text-align: right;\n",
       "    }\n",
       "</style>\n",
       "<table border=\"1\" class=\"dataframe\">\n",
       "  <thead>\n",
       "    <tr style=\"text-align: right;\">\n",
       "      <th></th>\n",
       "      <th>Image Index</th>\n",
       "      <th>Follow-up #</th>\n",
       "      <th>Patient ID</th>\n",
       "      <th>Patient Age</th>\n",
       "      <th>Patient Gender</th>\n",
       "      <th>View Position</th>\n",
       "      <th>Cardiomegaly</th>\n",
       "      <th>Emphysema</th>\n",
       "      <th>Effusion</th>\n",
       "      <th>Hernia</th>\n",
       "      <th>...</th>\n",
       "      <th>Mass</th>\n",
       "      <th>Nodule</th>\n",
       "      <th>Atelectasis</th>\n",
       "      <th>Pneumothorax</th>\n",
       "      <th>Pleural_Thickening</th>\n",
       "      <th>Pneumonia</th>\n",
       "      <th>Fibrosis</th>\n",
       "      <th>Edema</th>\n",
       "      <th>Consolidation</th>\n",
       "      <th>fold</th>\n",
       "    </tr>\n",
       "  </thead>\n",
       "  <tbody>\n",
       "    <tr>\n",
       "      <th>0</th>\n",
       "      <td>00000001_000.png</td>\n",
       "      <td>0</td>\n",
       "      <td>1</td>\n",
       "      <td>58</td>\n",
       "      <td>M</td>\n",
       "      <td>PA</td>\n",
       "      <td>1</td>\n",
       "      <td>0</td>\n",
       "      <td>0</td>\n",
       "      <td>0</td>\n",
       "      <td>...</td>\n",
       "      <td>0</td>\n",
       "      <td>0</td>\n",
       "      <td>0</td>\n",
       "      <td>0</td>\n",
       "      <td>0</td>\n",
       "      <td>0</td>\n",
       "      <td>0</td>\n",
       "      <td>0</td>\n",
       "      <td>0</td>\n",
       "      <td>train</td>\n",
       "    </tr>\n",
       "    <tr>\n",
       "      <th>1</th>\n",
       "      <td>00000001_001.png</td>\n",
       "      <td>1</td>\n",
       "      <td>1</td>\n",
       "      <td>58</td>\n",
       "      <td>M</td>\n",
       "      <td>PA</td>\n",
       "      <td>1</td>\n",
       "      <td>1</td>\n",
       "      <td>0</td>\n",
       "      <td>0</td>\n",
       "      <td>...</td>\n",
       "      <td>0</td>\n",
       "      <td>0</td>\n",
       "      <td>0</td>\n",
       "      <td>0</td>\n",
       "      <td>0</td>\n",
       "      <td>0</td>\n",
       "      <td>0</td>\n",
       "      <td>0</td>\n",
       "      <td>0</td>\n",
       "      <td>train</td>\n",
       "    </tr>\n",
       "    <tr>\n",
       "      <th>2</th>\n",
       "      <td>00000001_002.png</td>\n",
       "      <td>2</td>\n",
       "      <td>1</td>\n",
       "      <td>58</td>\n",
       "      <td>M</td>\n",
       "      <td>PA</td>\n",
       "      <td>1</td>\n",
       "      <td>0</td>\n",
       "      <td>1</td>\n",
       "      <td>0</td>\n",
       "      <td>...</td>\n",
       "      <td>0</td>\n",
       "      <td>0</td>\n",
       "      <td>0</td>\n",
       "      <td>0</td>\n",
       "      <td>0</td>\n",
       "      <td>0</td>\n",
       "      <td>0</td>\n",
       "      <td>0</td>\n",
       "      <td>0</td>\n",
       "      <td>train</td>\n",
       "    </tr>\n",
       "    <tr>\n",
       "      <th>3</th>\n",
       "      <td>00000002_000.png</td>\n",
       "      <td>0</td>\n",
       "      <td>2</td>\n",
       "      <td>81</td>\n",
       "      <td>M</td>\n",
       "      <td>PA</td>\n",
       "      <td>0</td>\n",
       "      <td>0</td>\n",
       "      <td>0</td>\n",
       "      <td>0</td>\n",
       "      <td>...</td>\n",
       "      <td>0</td>\n",
       "      <td>0</td>\n",
       "      <td>0</td>\n",
       "      <td>0</td>\n",
       "      <td>0</td>\n",
       "      <td>0</td>\n",
       "      <td>0</td>\n",
       "      <td>0</td>\n",
       "      <td>0</td>\n",
       "      <td>train</td>\n",
       "    </tr>\n",
       "    <tr>\n",
       "      <th>4</th>\n",
       "      <td>00000003_000.png</td>\n",
       "      <td>0</td>\n",
       "      <td>3</td>\n",
       "      <td>81</td>\n",
       "      <td>F</td>\n",
       "      <td>PA</td>\n",
       "      <td>0</td>\n",
       "      <td>0</td>\n",
       "      <td>0</td>\n",
       "      <td>1</td>\n",
       "      <td>...</td>\n",
       "      <td>0</td>\n",
       "      <td>0</td>\n",
       "      <td>0</td>\n",
       "      <td>0</td>\n",
       "      <td>0</td>\n",
       "      <td>0</td>\n",
       "      <td>0</td>\n",
       "      <td>0</td>\n",
       "      <td>0</td>\n",
       "      <td>train</td>\n",
       "    </tr>\n",
       "    <tr>\n",
       "      <th>...</th>\n",
       "      <td>...</td>\n",
       "      <td>...</td>\n",
       "      <td>...</td>\n",
       "      <td>...</td>\n",
       "      <td>...</td>\n",
       "      <td>...</td>\n",
       "      <td>...</td>\n",
       "      <td>...</td>\n",
       "      <td>...</td>\n",
       "      <td>...</td>\n",
       "      <td>...</td>\n",
       "      <td>...</td>\n",
       "      <td>...</td>\n",
       "      <td>...</td>\n",
       "      <td>...</td>\n",
       "      <td>...</td>\n",
       "      <td>...</td>\n",
       "      <td>...</td>\n",
       "      <td>...</td>\n",
       "      <td>...</td>\n",
       "      <td>...</td>\n",
       "    </tr>\n",
       "    <tr>\n",
       "      <th>112115</th>\n",
       "      <td>00030801_001.png</td>\n",
       "      <td>1</td>\n",
       "      <td>30801</td>\n",
       "      <td>39</td>\n",
       "      <td>M</td>\n",
       "      <td>PA</td>\n",
       "      <td>0</td>\n",
       "      <td>0</td>\n",
       "      <td>0</td>\n",
       "      <td>0</td>\n",
       "      <td>...</td>\n",
       "      <td>1</td>\n",
       "      <td>0</td>\n",
       "      <td>0</td>\n",
       "      <td>0</td>\n",
       "      <td>0</td>\n",
       "      <td>1</td>\n",
       "      <td>0</td>\n",
       "      <td>0</td>\n",
       "      <td>0</td>\n",
       "      <td>train</td>\n",
       "    </tr>\n",
       "    <tr>\n",
       "      <th>112116</th>\n",
       "      <td>00030802_000.png</td>\n",
       "      <td>0</td>\n",
       "      <td>30802</td>\n",
       "      <td>29</td>\n",
       "      <td>M</td>\n",
       "      <td>PA</td>\n",
       "      <td>0</td>\n",
       "      <td>0</td>\n",
       "      <td>0</td>\n",
       "      <td>0</td>\n",
       "      <td>...</td>\n",
       "      <td>0</td>\n",
       "      <td>0</td>\n",
       "      <td>0</td>\n",
       "      <td>0</td>\n",
       "      <td>0</td>\n",
       "      <td>0</td>\n",
       "      <td>0</td>\n",
       "      <td>0</td>\n",
       "      <td>0</td>\n",
       "      <td>val</td>\n",
       "    </tr>\n",
       "    <tr>\n",
       "      <th>112117</th>\n",
       "      <td>00030803_000.png</td>\n",
       "      <td>0</td>\n",
       "      <td>30803</td>\n",
       "      <td>42</td>\n",
       "      <td>F</td>\n",
       "      <td>PA</td>\n",
       "      <td>0</td>\n",
       "      <td>0</td>\n",
       "      <td>0</td>\n",
       "      <td>0</td>\n",
       "      <td>...</td>\n",
       "      <td>0</td>\n",
       "      <td>0</td>\n",
       "      <td>0</td>\n",
       "      <td>0</td>\n",
       "      <td>0</td>\n",
       "      <td>0</td>\n",
       "      <td>0</td>\n",
       "      <td>0</td>\n",
       "      <td>0</td>\n",
       "      <td>train</td>\n",
       "    </tr>\n",
       "    <tr>\n",
       "      <th>112118</th>\n",
       "      <td>00030804_000.png</td>\n",
       "      <td>0</td>\n",
       "      <td>30804</td>\n",
       "      <td>30</td>\n",
       "      <td>F</td>\n",
       "      <td>PA</td>\n",
       "      <td>0</td>\n",
       "      <td>0</td>\n",
       "      <td>0</td>\n",
       "      <td>0</td>\n",
       "      <td>...</td>\n",
       "      <td>0</td>\n",
       "      <td>0</td>\n",
       "      <td>0</td>\n",
       "      <td>0</td>\n",
       "      <td>0</td>\n",
       "      <td>0</td>\n",
       "      <td>0</td>\n",
       "      <td>0</td>\n",
       "      <td>0</td>\n",
       "      <td>train</td>\n",
       "    </tr>\n",
       "    <tr>\n",
       "      <th>112119</th>\n",
       "      <td>00030805_000.png</td>\n",
       "      <td>0</td>\n",
       "      <td>30805</td>\n",
       "      <td>27</td>\n",
       "      <td>M</td>\n",
       "      <td>PA</td>\n",
       "      <td>0</td>\n",
       "      <td>0</td>\n",
       "      <td>0</td>\n",
       "      <td>0</td>\n",
       "      <td>...</td>\n",
       "      <td>0</td>\n",
       "      <td>0</td>\n",
       "      <td>0</td>\n",
       "      <td>0</td>\n",
       "      <td>0</td>\n",
       "      <td>0</td>\n",
       "      <td>0</td>\n",
       "      <td>0</td>\n",
       "      <td>0</td>\n",
       "      <td>train</td>\n",
       "    </tr>\n",
       "  </tbody>\n",
       "</table>\n",
       "<p>112120 rows × 21 columns</p>\n",
       "</div>"
      ],
      "text/plain": [
       "             Image Index  Follow-up #  Patient ID  Patient Age Patient Gender  \\\n",
       "0       00000001_000.png            0           1           58              M   \n",
       "1       00000001_001.png            1           1           58              M   \n",
       "2       00000001_002.png            2           1           58              M   \n",
       "3       00000002_000.png            0           2           81              M   \n",
       "4       00000003_000.png            0           3           81              F   \n",
       "...                  ...          ...         ...          ...            ...   \n",
       "112115  00030801_001.png            1       30801           39              M   \n",
       "112116  00030802_000.png            0       30802           29              M   \n",
       "112117  00030803_000.png            0       30803           42              F   \n",
       "112118  00030804_000.png            0       30804           30              F   \n",
       "112119  00030805_000.png            0       30805           27              M   \n",
       "\n",
       "       View Position  Cardiomegaly  Emphysema  Effusion  Hernia  ...  Mass  \\\n",
       "0                 PA             1          0         0       0  ...     0   \n",
       "1                 PA             1          1         0       0  ...     0   \n",
       "2                 PA             1          0         1       0  ...     0   \n",
       "3                 PA             0          0         0       0  ...     0   \n",
       "4                 PA             0          0         0       1  ...     0   \n",
       "...              ...           ...        ...       ...     ...  ...   ...   \n",
       "112115            PA             0          0         0       0  ...     1   \n",
       "112116            PA             0          0         0       0  ...     0   \n",
       "112117            PA             0          0         0       0  ...     0   \n",
       "112118            PA             0          0         0       0  ...     0   \n",
       "112119            PA             0          0         0       0  ...     0   \n",
       "\n",
       "        Nodule  Atelectasis  Pneumothorax  Pleural_Thickening  Pneumonia  \\\n",
       "0            0            0             0                   0          0   \n",
       "1            0            0             0                   0          0   \n",
       "2            0            0             0                   0          0   \n",
       "3            0            0             0                   0          0   \n",
       "4            0            0             0                   0          0   \n",
       "...        ...          ...           ...                 ...        ...   \n",
       "112115       0            0             0                   0          1   \n",
       "112116       0            0             0                   0          0   \n",
       "112117       0            0             0                   0          0   \n",
       "112118       0            0             0                   0          0   \n",
       "112119       0            0             0                   0          0   \n",
       "\n",
       "        Fibrosis  Edema  Consolidation   fold  \n",
       "0              0      0              0  train  \n",
       "1              0      0              0  train  \n",
       "2              0      0              0  train  \n",
       "3              0      0              0  train  \n",
       "4              0      0              0  train  \n",
       "...          ...    ...            ...    ...  \n",
       "112115         0      0              0  train  \n",
       "112116         0      0              0    val  \n",
       "112117         0      0              0  train  \n",
       "112118         0      0              0  train  \n",
       "112119         0      0              0  train  \n",
       "\n",
       "[112120 rows x 21 columns]"
      ]
     },
     "execution_count": 3,
     "metadata": {},
     "output_type": "execute_result"
    }
   ],
   "source": [
    "# Load the dataset\n",
    "file_path = './nih_labels.csv'  # Change this to your file path\n",
    "data = pd.read_csv(file_path)\n",
    "\n",
    "# Data Cleaning\n",
    "data['Patient Age'] = pd.to_numeric(data['Patient Age'].str.extract('(\\d+)')[0], errors='coerce')\n",
    "\n",
    "data"
   ]
  },
  {
   "cell_type": "code",
   "execution_count": 4,
   "metadata": {},
   "outputs": [
    {
     "data": {
      "text/plain": [
       "array(['PA', 'AP'], dtype=object)"
      ]
     },
     "execution_count": 4,
     "metadata": {},
     "output_type": "execute_result"
    }
   ],
   "source": [
    "data[\"View Position\"].unique()"
   ]
  },
  {
   "cell_type": "markdown",
   "metadata": {},
   "source": [
    "### Statistical Summary"
   ]
  },
  {
   "cell_type": "code",
   "execution_count": 5,
   "metadata": {},
   "outputs": [
    {
     "name": "stdout",
     "output_type": "stream",
     "text": [
      "         Follow-up #     Patient ID    Patient Age   Cardiomegaly  \\\n",
      "count  112120.000000  112120.000000  112120.000000  112120.000000   \n",
      "mean        8.573751   14346.381743      46.901463       0.024759   \n",
      "std        15.406320    8403.876972      16.839923       0.155391   \n",
      "min         0.000000       1.000000       1.000000       0.000000   \n",
      "25%         0.000000    7310.750000      35.000000       0.000000   \n",
      "50%         3.000000   13993.000000      49.000000       0.000000   \n",
      "75%        10.000000   20673.000000      59.000000       0.000000   \n",
      "max       183.000000   30805.000000     414.000000       1.000000   \n",
      "\n",
      "           Emphysema       Effusion         Hernia   Infiltration  \\\n",
      "count  112120.000000  112120.000000  112120.000000  112120.000000   \n",
      "mean        0.022440       0.118775       0.002025       0.177435   \n",
      "std         0.148111       0.323524       0.044950       0.382038   \n",
      "min         0.000000       0.000000       0.000000       0.000000   \n",
      "25%         0.000000       0.000000       0.000000       0.000000   \n",
      "50%         0.000000       0.000000       0.000000       0.000000   \n",
      "75%         0.000000       0.000000       0.000000       0.000000   \n",
      "max         1.000000       1.000000       1.000000       1.000000   \n",
      "\n",
      "                Mass         Nodule    Atelectasis   Pneumothorax  \\\n",
      "count  112120.000000  112120.000000  112120.000000  112120.000000   \n",
      "mean        0.051570       0.056466       0.103095       0.047289   \n",
      "std         0.221158       0.230821       0.304084       0.212256   \n",
      "min         0.000000       0.000000       0.000000       0.000000   \n",
      "25%         0.000000       0.000000       0.000000       0.000000   \n",
      "50%         0.000000       0.000000       0.000000       0.000000   \n",
      "75%         0.000000       0.000000       0.000000       0.000000   \n",
      "max         1.000000       1.000000       1.000000       1.000000   \n",
      "\n",
      "       Pleural_Thickening      Pneumonia       Fibrosis          Edema  \\\n",
      "count       112120.000000  112120.000000  112120.000000  112120.000000   \n",
      "mean             0.030191       0.012763       0.015037       0.020540   \n",
      "std              0.171113       0.112251       0.121702       0.141841   \n",
      "min              0.000000       0.000000       0.000000       0.000000   \n",
      "25%              0.000000       0.000000       0.000000       0.000000   \n",
      "50%              0.000000       0.000000       0.000000       0.000000   \n",
      "75%              0.000000       0.000000       0.000000       0.000000   \n",
      "max              1.000000       1.000000       1.000000       1.000000   \n",
      "\n",
      "       Consolidation  \n",
      "count  112120.000000  \n",
      "mean        0.041625  \n",
      "std         0.199732  \n",
      "min         0.000000  \n",
      "25%         0.000000  \n",
      "50%         0.000000  \n",
      "75%         0.000000  \n",
      "max         1.000000  \n"
     ]
    }
   ],
   "source": [
    "print(data.describe())"
   ]
  },
  {
   "cell_type": "markdown",
   "metadata": {},
   "source": [
    "### Distribution of Patient Age"
   ]
  },
  {
   "cell_type": "code",
   "execution_count": 6,
   "metadata": {},
   "outputs": [
    {
     "data": {
      "image/png": "[encoded data removed]",
      "text/plain": [
       "<Figure size 1000x600 with 1 Axes>"
      ]
     },
     "metadata": {},
     "output_type": "display_data"
    }
   ],
   "source": [
    "plt.figure(figsize=(10, 6))\n",
    "ax = sns.histplot(data['Patient Age'], bins=30, kde=True)\n",
    "ax.bar_label(ax.containers[0])\n",
    "plt.title('Distribution of Patient Age')\n",
    "plt.xlabel('Age')\n",
    "plt.ylabel('Frequency')\n",
    "plt.show()"
   ]
  },
  {
   "cell_type": "markdown",
   "metadata": {},
   "source": [
    "### Distribution of Patient Gender"
   ]
  },
  {
   "cell_type": "code",
   "execution_count": 7,
   "metadata": {},
   "outputs": [
    {
     "name": "stdout",
     "output_type": "stream",
     "text": [
      "Patient Gender\n",
      "M    63340\n",
      "F    48780\n",
      "Name: count, dtype: int64\n"
     ]
    }
   ],
   "source": [
    "print(data['Patient Gender'].value_counts())"
   ]
  },
  {
   "cell_type": "code",
   "execution_count": 8,
   "metadata": {},
   "outputs": [
    {
     "data": {
      "image/png": "[encoded data removed]",
      "text/plain": [
       "<Figure size 700x500 with 1 Axes>"
      ]
     },
     "metadata": {},
     "output_type": "display_data"
    }
   ],
   "source": [
    "# Countplot of Patient Gender\n",
    "plt.figure(figsize=(7, 5))\n",
    "ax = sns.countplot(data=data, x='Patient Gender')\n",
    "ax.bar_label(ax.containers[0])\n",
    "plt.title('Distribution of Patient Gender')\n",
    "plt.xlabel('Gender')\n",
    "plt.ylabel('Count')\n",
    "plt.show()"
   ]
  },
  {
   "cell_type": "markdown",
   "metadata": {},
   "source": [
    "### Distribution of View Position"
   ]
  },
  {
   "cell_type": "code",
   "execution_count": 9,
   "metadata": {},
   "outputs": [
    {
     "name": "stdout",
     "output_type": "stream",
     "text": [
      "View Position\n",
      "PA    67310\n",
      "AP    44810\n",
      "Name: count, dtype: int64\n"
     ]
    }
   ],
   "source": [
    "print(data['View Position'].value_counts())"
   ]
  },
  {
   "cell_type": "code",
   "execution_count": 10,
   "metadata": {},
   "outputs": [
    {
     "data": {
      "image/png": "[encoded data removed]",
      "text/plain": [
       "<Figure size 700x500 with 1 Axes>"
      ]
     },
     "metadata": {},
     "output_type": "display_data"
    }
   ],
   "source": [
    "# Visualization of Distribution of View Position\n",
    "plt.figure(figsize=(7, 5))\n",
    "ax = sns.countplot(data=data, x='View Position')\n",
    "ax.bar_label(ax.containers[0])\n",
    "plt.title('Distribution of View Position')\n",
    "plt.xlabel('View Position')\n",
    "plt.ylabel('Count')\n",
    "plt.show()"
   ]
  },
  {
   "cell_type": "markdown",
   "metadata": {},
   "source": [
    "### Analysis of Findings"
   ]
  },
  {
   "cell_type": "code",
   "execution_count": 12,
   "metadata": {},
   "outputs": [
    {
     "data": {
      "text/plain": [
       "Infiltration          19894\n",
       "Effusion              13317\n",
       "Atelectasis           11559\n",
       "Nodule                 6331\n",
       "Mass                   5782\n",
       "Pneumothorax           5302\n",
       "Consolidation          4667\n",
       "Pleural_Thickening     3385\n",
       "Cardiomegaly           2776\n",
       "Emphysema              2516\n",
       "Edema                  2303\n",
       "Fibrosis               1686\n",
       "Pneumonia              1431\n",
       "Hernia                  227\n",
       "dtype: int64"
      ]
     },
     "execution_count": 12,
     "metadata": {},
     "output_type": "execute_result"
    }
   ],
   "source": [
    "# Calculate the occurrence of each label\n",
    "label_occurrences = data.iloc[:, 6:-1].sum().sort_values(ascending=False)\n",
    "\n",
    "label_occurrences\n"
   ]
  },
  {
   "cell_type": "code",
   "execution_count": 13,
   "metadata": {},
   "outputs": [
    {
     "data": {
      "text/plain": [
       "81176"
      ]
     },
     "execution_count": 13,
     "metadata": {},
     "output_type": "execute_result"
    }
   ],
   "source": [
    "# Calculate the total occurrences across all labels\n",
    "total_occurrences = label_occurrences.sum()\n",
    "\n",
    "total_occurrences\n"
   ]
  },
  {
   "cell_type": "code",
   "execution_count": 15,
   "metadata": {},
   "outputs": [
    {
     "data": {
      "text/plain": [
       "(112120, 20796, 60361)"
      ]
     },
     "execution_count": 15,
     "metadata": {},
     "output_type": "execute_result"
    }
   ],
   "source": [
    "# Total number of rows in the dataset\n",
    "total_rows = data.shape[0]\n",
    "\n",
    "# Count of images with multiple labels\n",
    "multiple_labels_count = (data.iloc[:, 6:-1].sum(axis=1) > 1).sum()\n",
    "\n",
    "# Count of images with no labels\n",
    "no_labels_count = (data.iloc[:, 6:-1].sum(axis=1) == 0).sum()\n",
    "\n",
    "total_rows, multiple_labels_count, no_labels_count\n"
   ]
  },
  {
   "cell_type": "code",
   "execution_count": 17,
   "metadata": {},
   "outputs": [
    {
     "name": "stdout",
     "output_type": "stream",
     "text": [
      "14\n"
     ]
    }
   ],
   "source": [
    "# Number of unique findings\n",
    "print(label_occurrences.nunique())\n",
    "# 14 pathologies"
   ]
  },
  {
   "cell_type": "markdown",
   "metadata": {},
   "source": [
    "### Calculating the number of unique patients for each view position"
   ]
  },
  {
   "cell_type": "code",
   "execution_count": 19,
   "metadata": {},
   "outputs": [
    {
     "data": {
      "text/plain": [
       "30805"
      ]
     },
     "execution_count": 19,
     "metadata": {},
     "output_type": "execute_result"
    }
   ],
   "source": [
    "# Calculating the total number of unique patients in the dataset\n",
    "total_unique_patients = data['Patient ID'].nunique()\n",
    "total_unique_patients"
   ]
  },
  {
   "cell_type": "code",
   "execution_count": 20,
   "metadata": {},
   "outputs": [
    {
     "data": {
      "text/plain": [
       "(9060, 28868)"
      ]
     },
     "execution_count": 20,
     "metadata": {},
     "output_type": "execute_result"
    }
   ],
   "source": [
    "\n",
    "# Unique patients for 'AP' view position\n",
    "unique_patients_AP = data[data['View Position'] == 'AP']['Patient ID'].nunique()\n",
    "\n",
    "# Unique patients for 'PA' view position\n",
    "unique_patients_PA = data[data['View Position'] == 'PA']['Patient ID'].nunique()\n",
    "\n",
    "unique_patients_AP, unique_patients_PA"
   ]
  },
  {
   "cell_type": "code",
   "execution_count": 21,
   "metadata": {},
   "outputs": [
    {
     "data": {
      "image/png": "[encoded data removed]",
      "text/plain": [
       "<Figure size 700x500 with 1 Axes>"
      ]
     },
     "metadata": {},
     "output_type": "display_data"
    }
   ],
   "source": [
    "# Visualization of Unique Patients for AP and PA View Positions\n",
    "\n",
    "unique_patients = {'AP': unique_patients_AP, 'PA': unique_patients_PA}\n",
    "unique_patients_series = pd.Series(unique_patients)\n",
    "\n",
    "plt.figure(figsize=(7, 5))\n",
    "ax = unique_patients_series.plot(kind='bar')\n",
    "ax.bar_label(ax.containers[0])\n",
    "plt.title('Number of Unique Patients for Each View Position')\n",
    "plt.xlabel('View Position')\n",
    "plt.ylabel('Number of Unique Patients')\n",
    "plt.show()\n"
   ]
  },
  {
   "cell_type": "markdown",
   "metadata": {},
   "source": [
    "---"
   ]
  }
 ],
 "metadata": {
  "kernelspec": {
   "display_name": "base",
   "language": "python",
   "name": "python3"
  },
  "language_info": {
   "codemirror_mode": {
    "name": "ipython",
    "version": 3
   },
   "file_extension": ".py",
   "mimetype": "text/x-python",
   "name": "python",
   "nbconvert_exporter": "python",
   "pygments_lexer": "ipython3",
   "version": "3.10.12"
  }
 },
 "nbformat": 4,
 "nbformat_minor": 2
}
